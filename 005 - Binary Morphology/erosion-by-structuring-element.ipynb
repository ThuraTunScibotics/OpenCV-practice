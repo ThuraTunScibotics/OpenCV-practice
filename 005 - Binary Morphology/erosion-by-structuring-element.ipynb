{
 "cells": [
  {
   "cell_type": "markdown",
   "id": "04370e54",
   "metadata": {},
   "source": [
    "### Sliding widows on image by some types of structuring elements."
   ]
  },
  {
   "cell_type": "code",
   "execution_count": 1,
   "id": "8e4caff8",
   "metadata": {},
   "outputs": [],
   "source": [
    "import cv2\n",
    "import numpy as np\n",
    "import matplotlib.pyplot as plt\n",
    "%matplotlib inline"
   ]
  },
  {
   "cell_type": "code",
   "execution_count": 2,
   "id": "ee10359a",
   "metadata": {},
   "outputs": [],
   "source": [
    "img_gray = plt.imread('/home/thura/Desktop/computer-vision-and-DL/CV-course1/5 - Binary Morphology/images/albert-einstein-gray.jpg')\n",
    "img_binary = plt.imread('/home/thura/Desktop/computer-vision-and-DL/CV-course1/5 - Binary Morphology/images/j.png')"
   ]
  },
  {
   "cell_type": "code",
   "execution_count": 16,
   "id": "a2806374",
   "metadata": {},
   "outputs": [],
   "source": [
    "K_rect = cv2.getStructuringElement(cv2.MORPH_RECT, (5, 5))"
   ]
  },
  {
   "cell_type": "code",
   "execution_count": 17,
   "id": "40f717f5",
   "metadata": {},
   "outputs": [
    {
     "data": {
      "text/plain": [
       "numpy.ndarray"
      ]
     },
     "execution_count": 17,
     "metadata": {},
     "output_type": "execute_result"
    }
   ],
   "source": [
    "type(K_rect)"
   ]
  },
  {
   "cell_type": "code",
   "execution_count": 5,
   "id": "42c35d4b",
   "metadata": {},
   "outputs": [
    {
     "data": {
      "text/plain": [
       "dtype('uint8')"
      ]
     },
     "execution_count": 5,
     "metadata": {},
     "output_type": "execute_result"
    }
   ],
   "source": [
    "K_rect.dtype"
   ]
  },
  {
   "cell_type": "code",
   "execution_count": 6,
   "id": "e0653769",
   "metadata": {},
   "outputs": [
    {
     "data": {
      "text/plain": [
       "array([[1, 1, 1, 1, 1],\n",
       "       [1, 1, 1, 1, 1],\n",
       "       [1, 1, 1, 1, 1],\n",
       "       [1, 1, 1, 1, 1],\n",
       "       [1, 1, 1, 1, 1]], dtype=uint8)"
      ]
     },
     "execution_count": 6,
     "metadata": {},
     "output_type": "execute_result"
    }
   ],
   "source": [
    "K_rect"
   ]
  },
  {
   "cell_type": "code",
   "execution_count": 9,
   "id": "00f8dab4",
   "metadata": {},
   "outputs": [],
   "source": [
    "K_elip = cv2.getStructuringElement(cv2.MORPH_ELLIPSE, (10, 10))"
   ]
  },
  {
   "cell_type": "code",
   "execution_count": 10,
   "id": "139f1f04",
   "metadata": {},
   "outputs": [
    {
     "data": {
      "text/plain": [
       "array([[0, 0, 0, 0, 0, 1, 0, 0, 0, 0],\n",
       "       [0, 0, 1, 1, 1, 1, 1, 1, 1, 0],\n",
       "       [0, 1, 1, 1, 1, 1, 1, 1, 1, 1],\n",
       "       [1, 1, 1, 1, 1, 1, 1, 1, 1, 1],\n",
       "       [1, 1, 1, 1, 1, 1, 1, 1, 1, 1],\n",
       "       [1, 1, 1, 1, 1, 1, 1, 1, 1, 1],\n",
       "       [1, 1, 1, 1, 1, 1, 1, 1, 1, 1],\n",
       "       [1, 1, 1, 1, 1, 1, 1, 1, 1, 1],\n",
       "       [0, 1, 1, 1, 1, 1, 1, 1, 1, 1],\n",
       "       [0, 0, 1, 1, 1, 1, 1, 1, 1, 0]], dtype=uint8)"
      ]
     },
     "execution_count": 10,
     "metadata": {},
     "output_type": "execute_result"
    }
   ],
   "source": [
    "K_elip"
   ]
  },
  {
   "cell_type": "code",
   "execution_count": 13,
   "id": "b644f882",
   "metadata": {},
   "outputs": [],
   "source": [
    "K_cross = cv2.getStructuringElement(cv2.MORPH_CROSS, (5, 5))"
   ]
  },
  {
   "cell_type": "code",
   "execution_count": 14,
   "id": "29daab08",
   "metadata": {},
   "outputs": [
    {
     "data": {
      "text/plain": [
       "array([[0, 0, 1, 0, 0],\n",
       "       [0, 0, 1, 0, 0],\n",
       "       [1, 1, 1, 1, 1],\n",
       "       [0, 0, 1, 0, 0],\n",
       "       [0, 0, 1, 0, 0]], dtype=uint8)"
      ]
     },
     "execution_count": 14,
     "metadata": {},
     "output_type": "execute_result"
    }
   ],
   "source": [
    "K_cross"
   ]
  },
  {
   "cell_type": "markdown",
   "id": "adeb6582",
   "metadata": {},
   "source": [
    "### Erosion - erode image by using structuring element."
   ]
  },
  {
   "cell_type": "code",
   "execution_count": 20,
   "id": "152a2788",
   "metadata": {},
   "outputs": [],
   "source": [
    "E_rect = cv2.erode(img_binary, K_rect)\n",
    "E_elip = cv2.erode(img_binary, K_elip)\n",
    "E_cros = cv2.erode(img_binary, K_cros)"
   ]
  },
  {
   "cell_type": "code",
   "execution_count": 22,
   "id": "83e527c0",
   "metadata": {},
   "outputs": [
    {
     "data": {
      "image/png": "[encoded data removed]",
      "text/plain": [
       "<Figure size 432x288 with 4 Axes>"
      ]
     },
     "metadata": {
      "needs_background": "light"
     },
     "output_type": "display_data"
    }
   ],
   "source": [
    "plt.subplot(141)\n",
    "plt.imshow(img_binary)\n",
    "plt.subplot(142)\n",
    "plt.imshow(E_rect)\n",
    "plt.subplot(143)\n",
    "plt.imshow(E_elip)\n",
    "plt.subplot(144)\n",
    "plt.imshow(E_cros)\n",
    "plt.show()"
   ]
  },
  {
   "cell_type": "code",
   "execution_count": 25,
   "id": "d09282ba",
   "metadata": {},
   "outputs": [
    {
     "name": "stdout",
     "output_type": "stream",
     "text": [
      "2796.0\n"
     ]
    }
   ],
   "source": [
    "print(np.sum((E_rect - E_elip) ** 2))  # deviation of difference between rectangle & elipse"
   ]
  },
  {
   "cell_type": "code",
   "execution_count": 26,
   "id": "aae9e8dd",
   "metadata": {},
   "outputs": [
    {
     "name": "stdout",
     "output_type": "stream",
     "text": [
      "1446.0\n"
     ]
    }
   ],
   "source": [
    "print(np.sum((E_rect - E_cros) ** 2))"
   ]
  },
  {
   "cell_type": "code",
   "execution_count": 29,
   "id": "8b0b3039",
   "metadata": {},
   "outputs": [
    {
     "name": "stdout",
     "output_type": "stream",
     "text": [
      "4242.0\n"
     ]
    }
   ],
   "source": [
    "print(np.sum((E_cros - E_elip) ** 2))"
   ]
  },
  {
   "cell_type": "code",
   "execution_count": null,
   "id": "8492ce1f",
   "metadata": {},
   "outputs": [],
   "source": []
  }
 ],
 "metadata": {
  "kernelspec": {
   "display_name": "Python 3 (ipykernel)",
   "language": "python",
   "name": "python3"
  },
  "language_info": {
   "codemirror_mode": {
    "name": "ipython",
    "version": 3
   },
   "file_extension": ".py",
   "mimetype": "text/x-python",
   "name": "python",
   "nbconvert_exporter": "python",
   "pygments_lexer": "ipython3",
   "version": "3.7.12"
  }
 },
 "nbformat": 4,
 "nbformat_minor": 5
}
