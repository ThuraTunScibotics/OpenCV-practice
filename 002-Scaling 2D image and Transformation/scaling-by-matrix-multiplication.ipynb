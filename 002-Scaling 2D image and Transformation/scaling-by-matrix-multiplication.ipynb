{
 "cells": [
  {
   "cell_type": "code",
   "execution_count": 2,
   "id": "d1cccd70",
   "metadata": {},
   "outputs": [],
   "source": [
    "import numpy as np"
   ]
  },
  {
   "cell_type": "code",
   "execution_count": 11,
   "id": "e29022f0",
   "metadata": {},
   "outputs": [],
   "source": [
    "P = np.array([2, 4])"
   ]
  },
  {
   "cell_type": "code",
   "execution_count": 12,
   "id": "7f55f9b3",
   "metadata": {},
   "outputs": [],
   "source": [
    "Sx, Sy = 3, 0.5"
   ]
  },
  {
   "cell_type": "code",
   "execution_count": 13,
   "id": "65a06ba9",
   "metadata": {},
   "outputs": [],
   "source": [
    "S = np.array([[Sx, 0], [0, Sy]])"
   ]
  },
  {
   "cell_type": "code",
   "execution_count": 14,
   "id": "860e6758",
   "metadata": {},
   "outputs": [
    {
     "data": {
      "text/plain": [
       "array([[3. , 0. ],\n",
       "       [0. , 0.5]])"
      ]
     },
     "execution_count": 14,
     "metadata": {},
     "output_type": "execute_result"
    }
   ],
   "source": [
    "S"
   ]
  },
  {
   "cell_type": "code",
   "execution_count": 15,
   "id": "3456dcaa",
   "metadata": {},
   "outputs": [],
   "source": [
    "P_dash = S.dot(P)"
   ]
  },
  {
   "cell_type": "code",
   "execution_count": 16,
   "id": "56b0b58b",
   "metadata": {},
   "outputs": [
    {
     "data": {
      "text/plain": [
       "array([6., 2.])"
      ]
     },
     "execution_count": 16,
     "metadata": {},
     "output_type": "execute_result"
    }
   ],
   "source": [
    "P_dash"
   ]
  },
  {
   "cell_type": "markdown",
   "id": "a56bfd04",
   "metadata": {},
   "source": [
    "### Quiz:\n",
    "Calculate dot product of 3d point using Python."
   ]
  },
  {
   "cell_type": "code",
   "execution_count": 17,
   "id": "6b49aa3f",
   "metadata": {},
   "outputs": [],
   "source": [
    "P = np.array([2, 4, 8])\n",
    "\n",
    "Sx, Sy, Sz = 3, 0.5, 2\n",
    "\n",
    "S = np.array([[Sx, 0, 0], [0, Sy, 0], [0, 0, Sz]])"
   ]
  },
  {
   "cell_type": "code",
   "execution_count": 18,
   "id": "202dfc2e",
   "metadata": {},
   "outputs": [
    {
     "data": {
      "text/plain": [
       "array([[3. , 0. , 0. ],\n",
       "       [0. , 0.5, 0. ],\n",
       "       [0. , 0. , 2. ]])"
      ]
     },
     "execution_count": 18,
     "metadata": {},
     "output_type": "execute_result"
    }
   ],
   "source": [
    "S"
   ]
  },
  {
   "cell_type": "code",
   "execution_count": 19,
   "id": "89837ee7",
   "metadata": {},
   "outputs": [
    {
     "data": {
      "text/plain": [
       "array([ 6.,  2., 16.])"
      ]
     },
     "execution_count": 19,
     "metadata": {},
     "output_type": "execute_result"
    }
   ],
   "source": [
    "P_dash = S.dot(P)\n",
    "P_dash"
   ]
  },
  {
   "cell_type": "code",
   "execution_count": null,
   "id": "72b8f6fd",
   "metadata": {},
   "outputs": [],
   "source": []
  }
 ],
 "metadata": {
  "kernelspec": {
   "display_name": "Python 3 (ipykernel)",
   "language": "python",
   "name": "python3"
  },
  "language_info": {
   "codemirror_mode": {
    "name": "ipython",
    "version": 3
   },
   "file_extension": ".py",
   "mimetype": "text/x-python",
   "name": "python",
   "nbconvert_exporter": "python",
   "pygments_lexer": "ipython3",
   "version": "3.7.12"
  }
 },
 "nbformat": 4,
 "nbformat_minor": 5
}
