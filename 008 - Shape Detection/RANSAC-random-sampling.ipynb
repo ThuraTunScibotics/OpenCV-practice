{
 "cells": [
  {
   "cell_type": "code",
   "execution_count": 1,
   "id": "0ea14f35",
   "metadata": {},
   "outputs": [],
   "source": [
    "import cv2\n",
    "import matplotlib.pyplot as plt\n",
    "import numpy as np"
   ]
  },
  {
   "cell_type": "markdown",
   "id": "61d7c3bb",
   "metadata": {},
   "source": [
    "### Random Line Sampling Any Points"
   ]
  },
  {
   "cell_type": "code",
   "execution_count": 2,
   "id": "df5e491c",
   "metadata": {},
   "outputs": [],
   "source": [
    "def f_randomSample(r, c, n):\n",
    "    totalPoints = len(r)\n",
    "    idx = np.random.permutation(np.arange(totalPoints))\n",
    "    idx = idx[:n]\n",
    "    r2, c2 = [], []\n",
    "    for i in range(len(idx)):\n",
    "        r2.append(r[idx[i]])\n",
    "        c2.append(c[idx[i]])\n",
    "    return r2, c2"
   ]
  },
  {
   "cell_type": "code",
   "execution_count": 3,
   "id": "da9c9ad8",
   "metadata": {},
   "outputs": [
    {
     "name": "stdout",
     "output_type": "stream",
     "text": [
      "[3, 5, 4, 8, 0, 7, 2, 9, 6] [6, 4, 5, 1, 9, 2, 7, 0, 3]\n"
     ]
    }
   ],
   "source": [
    "# check the corresponding coordinate of row & column\n",
    "r = np.arange(10)\n",
    "c = np.arange(10)[::-1]\n",
    "r2, c2 = f_randomSample(r, c, 9)\n",
    "print(r2, c2)"
   ]
  },
  {
   "cell_type": "code",
   "execution_count": 4,
   "id": "96f14467",
   "metadata": {},
   "outputs": [
    {
     "data": {
      "text/plain": [
       "array([0, 1, 2, 3, 4, 5, 6, 7, 8, 9])"
      ]
     },
     "execution_count": 4,
     "metadata": {},
     "output_type": "execute_result"
    }
   ],
   "source": [
    "r"
   ]
  },
  {
   "cell_type": "code",
   "execution_count": 5,
   "id": "2f9469cd",
   "metadata": {
    "scrolled": true
   },
   "outputs": [
    {
     "data": {
      "text/plain": [
       "array([9, 8, 7, 6, 5, 4, 3, 2, 1, 0])"
      ]
     },
     "execution_count": 5,
     "metadata": {},
     "output_type": "execute_result"
    }
   ],
   "source": [
    "c"
   ]
  },
  {
   "cell_type": "code",
   "execution_count": 6,
   "id": "8fcecd45",
   "metadata": {},
   "outputs": [
    {
     "name": "stdout",
     "output_type": "stream",
     "text": [
      "[5 7 9 0 6 3 8 1 2 4]\n"
     ]
    }
   ],
   "source": [
    "totalPoints = 10\n",
    "print(np.random.permutation(np.arange(totalPoints)))"
   ]
  },
  {
   "cell_type": "markdown",
   "id": "ecb4eb2f",
   "metadata": {},
   "source": [
    "## RANSAC for Line"
   ]
  },
  {
   "cell_type": "markdown",
   "id": "b89c6aad",
   "metadata": {},
   "source": [
    "### Fitting Line With 2 Points Implementation\n",
    "Find out the parameters of the line: a and b."
   ]
  },
  {
   "cell_type": "code",
   "execution_count": 7,
   "id": "54505284",
   "metadata": {},
   "outputs": [],
   "source": [
    "def f_fitline(r1, c1, r2, c2):\n",
    "    p = np.array([1, 1])\n",
    "    A = np.array([[r1, 1], [r2, 1]])\n",
    "    q = np.array([[c1], [c2]])\n",
    "    if np.linalg.matrix_rank(A) == 2:\n",
    "        p = np.linalg.inv(A).dot(q)\n",
    "    a, b = p[0], p[1]\n",
    "    return a, b"
   ]
  },
  {
   "cell_type": "code",
   "execution_count": 8,
   "id": "a538c075",
   "metadata": {},
   "outputs": [],
   "source": [
    "r = np.arange(10)\n",
    "c = np.arange(10)[::-1]\n",
    "r2, c2 = f_randomSample(r, c, 2)\n",
    "a, b = f_fitline(r2[0], c2[0], r2[1], c2[1])"
   ]
  },
  {
   "cell_type": "code",
   "execution_count": 9,
   "id": "170ac8a3",
   "metadata": {},
   "outputs": [
    {
     "data": {
      "text/plain": [
       "(array([-1.]), array([9.]))"
      ]
     },
     "execution_count": 9,
     "metadata": {},
     "output_type": "execute_result"
    }
   ],
   "source": [
    "a, b"
   ]
  },
  {
   "cell_type": "markdown",
   "id": "bd78bfb8",
   "metadata": {},
   "source": [
    "### Computing Consistency Score"
   ]
  },
  {
   "cell_type": "code",
   "execution_count": 10,
   "id": "efcb7956",
   "metadata": {},
   "outputs": [],
   "source": [
    "def f_getConsistencyScore(r, c, th, a, b):\n",
    "    score = 0\n",
    "    for i in range(len(r)):\n",
    "        squaredError = (a*r[i]+b - c[i])**2\n",
    "        if squaredError < th:\n",
    "            score += 1\n",
    "    return score"
   ]
  },
  {
   "cell_type": "code",
   "execution_count": 57,
   "id": "31a69d17",
   "metadata": {},
   "outputs": [],
   "source": [
    "def f_RANSACline(E):\n",
    "    E = E > 0\n",
    "    idx = np.argwhere(E)\n",
    "    r, c = idx[:, 0], idx[:, 1]\n",
    "    best_a, best_b = 0, 0\n",
    "    maxScore = -1\n",
    "    numIter = 15\n",
    "    for iter in range(numIter):\n",
    "        r2, c2 = f_randomSample(r, c, 2)\n",
    "        a, b = f_fitline(r2[0], c2[0], r2[1], c2[1])\n",
    "        score = f_getConsistencyScore(r, c, 2, a, b)\n",
    "        if score > maxScore:\n",
    "            maxScore = score\n",
    "            best_a, best_b = a, b\n",
    "    return best_a, best_b"
   ]
  },
  {
   "cell_type": "code",
   "execution_count": 58,
   "id": "db3b26bf",
   "metadata": {},
   "outputs": [
    {
     "data": {
      "text/plain": [
       "'/home/thura/Desktop/computer-vision-and-DL/CV-course1/8 - Shape Detection'"
      ]
     },
     "execution_count": 58,
     "metadata": {},
     "output_type": "execute_result"
    }
   ],
   "source": [
    "pwd"
   ]
  },
  {
   "cell_type": "code",
   "execution_count": 59,
   "id": "0f028e6d",
   "metadata": {},
   "outputs": [],
   "source": [
    "E = plt.imread('/home/thura/Desktop/computer-vision-and-DL/CV-course1/8 - Shape Detection/images/E.png')"
   ]
  },
  {
   "cell_type": "code",
   "execution_count": 60,
   "id": "d4001af3",
   "metadata": {},
   "outputs": [
    {
     "data": {
      "text/plain": [
       "(499, 1153, 4)"
      ]
     },
     "execution_count": 60,
     "metadata": {},
     "output_type": "execute_result"
    }
   ],
   "source": [
    "E.shape"
   ]
  },
  {
   "cell_type": "code",
   "execution_count": 61,
   "id": "86724aca",
   "metadata": {},
   "outputs": [],
   "source": [
    "E = E[:, :, 0]"
   ]
  },
  {
   "cell_type": "code",
   "execution_count": 62,
   "id": "95bd84ae",
   "metadata": {},
   "outputs": [
    {
     "data": {
      "text/plain": [
       "(499, 1153)"
      ]
     },
     "execution_count": 62,
     "metadata": {},
     "output_type": "execute_result"
    }
   ],
   "source": [
    "E.shape"
   ]
  },
  {
   "cell_type": "code",
   "execution_count": 63,
   "id": "25cc0a68",
   "metadata": {},
   "outputs": [
    {
     "data": {
      "text/plain": [
       "<matplotlib.image.AxesImage at 0x7ff88ff806d0>"
      ]
     },
     "execution_count": 63,
     "metadata": {},
     "output_type": "execute_result"
    },
    {
     "data": {
      "image/png": "[encoded data removed]",
      "text/plain": [
       "<Figure size 432x288 with 1 Axes>"
      ]
     },
     "metadata": {
      "needs_background": "light"
     },
     "output_type": "display_data"
    }
   ],
   "source": [
    "plt.imshow(E, cmap='gray')"
   ]
  },
  {
   "cell_type": "code",
   "execution_count": 64,
   "id": "7a1294e1",
   "metadata": {},
   "outputs": [
    {
     "data": {
      "text/plain": [
       "(1.0, 0.0)"
      ]
     },
     "execution_count": 64,
     "metadata": {},
     "output_type": "execute_result"
    }
   ],
   "source": [
    "E.max(), E.min()"
   ]
  },
  {
   "cell_type": "code",
   "execution_count": 65,
   "id": "d6bd8d5c",
   "metadata": {},
   "outputs": [
    {
     "data": {
      "text/plain": [
       "dtype('float32')"
      ]
     },
     "execution_count": 65,
     "metadata": {},
     "output_type": "execute_result"
    }
   ],
   "source": [
    "E.dtype"
   ]
  },
  {
   "cell_type": "code",
   "execution_count": 66,
   "id": "b039a4a1",
   "metadata": {},
   "outputs": [
    {
     "data": {
      "text/plain": [
       "(array([0.94444444]), array([632.61111111]))"
      ]
     },
     "execution_count": 66,
     "metadata": {},
     "output_type": "execute_result"
    }
   ],
   "source": [
    "best_a, best_b = f_RANSACline(E)\n",
    "best_a, best_b"
   ]
  },
  {
   "cell_type": "code",
   "execution_count": 67,
   "id": "5d58e4d8",
   "metadata": {},
   "outputs": [
    {
     "data": {
      "text/plain": [
       "(array([0.94444444]), array([632.61111111]))"
      ]
     },
     "execution_count": 67,
     "metadata": {},
     "output_type": "execute_result"
    }
   ],
   "source": [
    "best_a, best_b"
   ]
  },
  {
   "cell_type": "code",
   "execution_count": 68,
   "id": "4d7841fd",
   "metadata": {},
   "outputs": [],
   "source": [
    "def f_getExtents(a, b, numRows, numCols):\n",
    "    r1 = int(0)\n",
    "    c1 = int(a*r1 + b)\n",
    "    r2 = int(numRows-1)\n",
    "    c2 = int(a*r2 + b)\n",
    "    return (c1, r1), (c2, r2)"
   ]
  },
  {
   "cell_type": "code",
   "execution_count": 69,
   "id": "c22cc223",
   "metadata": {},
   "outputs": [],
   "source": [
    "s, e = f_getExtents(best_a, best_b, E.shape[0], E.shape[1])"
   ]
  },
  {
   "cell_type": "code",
   "execution_count": 70,
   "id": "e7b23ec4",
   "metadata": {},
   "outputs": [
    {
     "data": {
      "text/plain": [
       "((632, 0), (1102, 498))"
      ]
     },
     "execution_count": 70,
     "metadata": {},
     "output_type": "execute_result"
    }
   ],
   "source": [
    "s, e"
   ]
  },
  {
   "cell_type": "code",
   "execution_count": 71,
   "id": "bfc69d73",
   "metadata": {},
   "outputs": [
    {
     "data": {
      "text/plain": [
       "<matplotlib.image.AxesImage at 0x7ff88fef2b10>"
      ]
     },
     "execution_count": 71,
     "metadata": {},
     "output_type": "execute_result"
    },
    {
     "data": {
      "image/png": "[encoded data removed]",
      "text/plain": [
       "<Figure size 432x288 with 1 Axes>"
      ]
     },
     "metadata": {
      "needs_background": "light"
     },
     "output_type": "display_data"
    }
   ],
   "source": [
    "E2 = np.zeros((E.shape[0], E.shape[1], 3), dtype=np.uint8)\n",
    "E3 = np.array(255*E, dtype=np.uint8)\n",
    "E2[:, :, 0] = E3\n",
    "E2[:, :, 1] = E3\n",
    "E2[:, :, 2] = E3\n",
    "I = cv2.line(E2, s, e, (0, 0, 255), 3)\n",
    "plt.imshow(I[:, :, ::-1])"
   ]
  },
  {
   "cell_type": "code",
   "execution_count": 72,
   "id": "de93f54d",
   "metadata": {},
   "outputs": [
    {
     "data": {
      "text/plain": [
       "dtype('float32')"
      ]
     },
     "execution_count": 72,
     "metadata": {},
     "output_type": "execute_result"
    }
   ],
   "source": [
    "E.dtype"
   ]
  },
  {
   "cell_type": "code",
   "execution_count": 73,
   "id": "03e91803",
   "metadata": {},
   "outputs": [
    {
     "data": {
      "text/plain": [
       "dtype('uint8')"
      ]
     },
     "execution_count": 73,
     "metadata": {},
     "output_type": "execute_result"
    }
   ],
   "source": [
    "E3.dtype"
   ]
  },
  {
   "cell_type": "markdown",
   "id": "158ccaa1",
   "metadata": {},
   "source": [
    "## RANSAC for Circle"
   ]
  },
  {
   "cell_type": "markdown",
   "id": "6f11d6f6",
   "metadata": {},
   "source": [
    "### Fitting circle"
   ]
  },
  {
   "cell_type": "code",
   "execution_count": 74,
   "id": "7b8f1aad",
   "metadata": {},
   "outputs": [],
   "source": [
    "def f_fitCircle(x1,y1,x2,y2,x3,y3):\n",
    "    c = (x1-x2)**2 + (y1-y2)**2\n",
    "    a = (x2-x3)**2 + (y2-y3)**2\n",
    "    b = (x3-x1)**2 + (y3-y1)**2\n",
    "    s = 2*(a*b + b*c + c*a) - (a*a + b*b + c*c) \n",
    "    px = (a*(b+c-a)*x1 + b*(c+a-b)*x2 + c*(a+b-c)*x3) / s\n",
    "    py = (a*(b+c-a)*y1 + b*(c+a-b)*y2 + c*(a+b-c)*y3) / s \n",
    "    ar = a**0.5\n",
    "    br = b**0.5\n",
    "    cr = c**0.5 \n",
    "    r = ar*br*cr / ((ar+br+cr)*(-ar+br+cr)*(ar-br+cr)*(ar+br-cr))**0.5\n",
    "    return px,py,r"
   ]
  },
  {
   "cell_type": "code",
   "execution_count": 75,
   "id": "3d68ef5d",
   "metadata": {},
   "outputs": [],
   "source": [
    "def f_getConsistencyScore_circle(r,c,th,cr,cc,d):\n",
    "    score = 0\n",
    "    for i in range(len(r)):\n",
    "        sd = ((r[i]-cr)**2 + (c[i]-cc)**2 - d**2)**2\n",
    "        if sd < th:\n",
    "            score += 1\n",
    "    return score"
   ]
  },
  {
   "cell_type": "code",
   "execution_count": 76,
   "id": "60baac0b",
   "metadata": {},
   "outputs": [],
   "source": [
    "def f_RANSACCircle(E):\n",
    "    E = E>0\n",
    "    idx = np.argwhere(E)\n",
    "    r , c = idx[:,0] , idx[:,1]\n",
    "    best_cr , best_cc , best_d = 0 , 0 , 0\n",
    "    maxScore = -1\n",
    "    numIter = 2000\n",
    "    for iter in range(numIter):\n",
    "        r2,c2 = f_randomSample(r,c,3)\n",
    "        cr,cc,d = f_fitCircle(r2[0],c2[0],r2[1],c2[1],r2[2],c2[2])\n",
    "        score = f_getConsistencyScore_circle(r,c,3,cr,cc,d)\n",
    "        if score > maxScore:\n",
    "            maxScore = score\n",
    "            best_cr , best_cc , best_d = cr , cc , d\n",
    "    return best_cr , best_cc , best_d"
   ]
  },
  {
   "cell_type": "code",
   "execution_count": 83,
   "id": "ea923faf",
   "metadata": {},
   "outputs": [],
   "source": [
    "E = cv2.imread('/home/thura/Desktop/computer-vision-and-DL/CV-course1/8 - Shape Detection/images/Ec.png',cv2.IMREAD_GRAYSCALE)"
   ]
  },
  {
   "cell_type": "code",
   "execution_count": 84,
   "id": "0e415bf5",
   "metadata": {},
   "outputs": [
    {
     "data": {
      "text/plain": [
       "<matplotlib.image.AxesImage at 0x7ff88fd04690>"
      ]
     },
     "execution_count": 84,
     "metadata": {},
     "output_type": "execute_result"
    },
    {
     "data": {
      "image/png": "[encoded data removed]",
      "text/plain": [
       "<Figure size 432x288 with 1 Axes>"
      ]
     },
     "metadata": {
      "needs_background": "light"
     },
     "output_type": "display_data"
    }
   ],
   "source": [
    "plt.imshow(E, cmap='gray')"
   ]
  },
  {
   "cell_type": "code",
   "execution_count": 85,
   "id": "34815ebf",
   "metadata": {},
   "outputs": [
    {
     "data": {
      "text/plain": [
       "(138, 150)"
      ]
     },
     "execution_count": 85,
     "metadata": {},
     "output_type": "execute_result"
    }
   ],
   "source": [
    "E.shape"
   ]
  },
  {
   "cell_type": "code",
   "execution_count": 86,
   "id": "5ff3dd77",
   "metadata": {},
   "outputs": [
    {
     "data": {
      "text/plain": [
       "(255, 0)"
      ]
     },
     "execution_count": 86,
     "metadata": {},
     "output_type": "execute_result"
    }
   ],
   "source": [
    "E.max(), E.min()"
   ]
  },
  {
   "cell_type": "code",
   "execution_count": 87,
   "id": "7e15b5a2",
   "metadata": {},
   "outputs": [
    {
     "data": {
      "text/plain": [
       "<matplotlib.image.AxesImage at 0x7ff88fcae850>"
      ]
     },
     "execution_count": 87,
     "metadata": {},
     "output_type": "execute_result"
    },
    {
     "data": {
      "image/png": "[encoded data removed]",
      "text/plain": [
       "<Figure size 432x288 with 1 Axes>"
      ]
     },
     "metadata": {
      "needs_background": "light"
     },
     "output_type": "display_data"
    }
   ],
   "source": [
    "E = E > 100\n",
    "plt.imshow(E, cmap='gray')"
   ]
  },
  {
   "cell_type": "code",
   "execution_count": 88,
   "id": "b10b4187",
   "metadata": {},
   "outputs": [
    {
     "name": "stderr",
     "output_type": "stream",
     "text": [
      "/home/thura/Desktop/computer-vision-and-DL/cv-env/lib/python3.7/site-packages/ipykernel_launcher.py:6: RuntimeWarning: invalid value encountered in long_scalars\n",
      "  \n",
      "/home/thura/Desktop/computer-vision-and-DL/cv-env/lib/python3.7/site-packages/ipykernel_launcher.py:7: RuntimeWarning: invalid value encountered in long_scalars\n",
      "  import sys\n",
      "/home/thura/Desktop/computer-vision-and-DL/cv-env/lib/python3.7/site-packages/ipykernel_launcher.py:11: RuntimeWarning: divide by zero encountered in double_scalars\n",
      "  # This is added back by InteractiveShellApp.init_path()\n"
     ]
    }
   ],
   "source": [
    "best_cr, best_cc, best_d = f_RANSACCircle(E)"
   ]
  },
  {
   "cell_type": "code",
   "execution_count": 89,
   "id": "63b30efd",
   "metadata": {},
   "outputs": [
    {
     "data": {
      "text/plain": [
       "(46.5, 47.5, 48.088460154178335)"
      ]
     },
     "execution_count": 89,
     "metadata": {},
     "output_type": "execute_result"
    }
   ],
   "source": [
    "best_cr, best_cc, best_d"
   ]
  },
  {
   "cell_type": "code",
   "execution_count": 90,
   "id": "29ab0511",
   "metadata": {},
   "outputs": [
    {
     "data": {
      "text/plain": [
       "<matplotlib.image.AxesImage at 0x7ff88fc41f90>"
      ]
     },
     "execution_count": 90,
     "metadata": {},
     "output_type": "execute_result"
    },
    {
     "data": {
      "image/png": "[encoded data removed]",
      "text/plain": [
       "<Figure size 432x288 with 1 Axes>"
      ]
     },
     "metadata": {
      "needs_background": "light"
     },
     "output_type": "display_data"
    }
   ],
   "source": [
    "E2 = np.zeros((E.shape[0],E.shape[1],3),dtype=np.uint8)\n",
    "E3 = np.array(255*E,dtype = np.uint8)\n",
    "E2[:,:,0] = E3\n",
    "E2[:,:,1] = E3\n",
    "E2[:,:,2] = E3\n",
    "I = cv2.circle(E2,(int(best_cc),int(best_cr)),int(best_d),(0,0,255),2)\n",
    "plt.imshow(I[:,:,::-1])"
   ]
  },
  {
   "cell_type": "code",
   "execution_count": null,
   "id": "f5698642",
   "metadata": {},
   "outputs": [],
   "source": []
  }
 ],
 "metadata": {
  "kernelspec": {
   "display_name": "Python 3 (ipykernel)",
   "language": "python",
   "name": "python3"
  },
  "language_info": {
   "codemirror_mode": {
    "name": "ipython",
    "version": 3
   },
   "file_extension": ".py",
   "mimetype": "text/x-python",
   "name": "python",
   "nbconvert_exporter": "python",
   "pygments_lexer": "ipython3",
   "version": "3.7.12"
  }
 },
 "nbformat": 4,
 "nbformat_minor": 5
}
