{
 "cells": [
  {
   "cell_type": "code",
   "execution_count": 2,
   "id": "edd25961",
   "metadata": {},
   "outputs": [],
   "source": [
    "import cv2"
   ]
  },
  {
   "cell_type": "markdown",
   "id": "efc6712d",
   "metadata": {},
   "source": [
    "For Details about Tracking Algorithms of OpenCV\n",
    "https://broutonlab.com/blog/opencv-object-tracking"
   ]
  },
  {
   "cell_type": "code",
   "execution_count": 18,
   "id": "d7c068ff",
   "metadata": {},
   "outputs": [],
   "source": [
    "# TraDict = {'csrt': cv2.TrackerCSRT_create,\n",
    "#            'kcf': cv2.TrackerKCF_create,\n",
    "#            'mil': cv2.TrackerMIL_create,\n",
    "#            'rpn': cv2.TrackerDaSiamRPN_create,\n",
    "#            'goturn': cv2.TrackerGOTURN_create}\n",
    "\n",
    "TraDict = {'csrt': cv2.legacy.TrackerCSRT_create,\n",
    "           'kcf': cv2.legacy.TrackerKCF_create,\n",
    "           'mil': cv2.legacy.TrackerMIL_create,\n",
    "           'tld': cv2.legacy.TrackerTLD_create,\n",
    "           'boosting': cv2.legacy.TrackerBoosting_create,\n",
    "           'mosse': cv2.legacy.TrackerMOSSE_create}"
   ]
  },
  {
   "cell_type": "code",
   "execution_count": 19,
   "id": "db94b57f",
   "metadata": {},
   "outputs": [],
   "source": [
    "tracker = TraDict['csrt']()\n",
    "# tracker = cv2.TrackerCSRT_create()"
   ]
  },
  {
   "cell_type": "code",
   "execution_count": 20,
   "id": "1587abaf",
   "metadata": {},
   "outputs": [
    {
     "data": {
      "text/plain": [
       "'/home/thura/Desktop/computer-vision-and-DL/CV-course1/11 - Object Tracking'"
      ]
     },
     "execution_count": 20,
     "metadata": {},
     "output_type": "execute_result"
    }
   ],
   "source": [
    "pwd"
   ]
  },
  {
   "cell_type": "code",
   "execution_count": 21,
   "id": "a4028954",
   "metadata": {},
   "outputs": [],
   "source": [
    "video = cv2.VideoCapture('/home/thura/Desktop/computer-vision-and-DL/CV-course1/11 - Object Tracking/data/mot.mp4')"
   ]
  },
  {
   "cell_type": "code",
   "execution_count": 22,
   "id": "1eacc5a5",
   "metadata": {},
   "outputs": [],
   "source": [
    "ret, frame = video.read()\n",
    "cv2.imshow('Frame', frame)\n",
    "bb = cv2.selectROI('Frame', frame)\n",
    "tracker.init(frame, bb)"
   ]
  },
  {
   "cell_type": "code",
   "execution_count": 23,
   "id": "526829cc",
   "metadata": {},
   "outputs": [],
   "source": [
    "while True:\n",
    "    ret, frame = video.read()\n",
    "    if not ret:\n",
    "        break\n",
    "    (success, box) = tracker.update(frame)\n",
    "    if success:\n",
    "        (x, y, w, h) = [int(a) for a in box]\n",
    "        cv2.rectangle(frame, (x, y), (x+w, y+h), (0, 0, 255), 2)\n",
    "    cv2.imshow('Frame', frame)\n",
    "    if cv2.waitKey(1) & 0xFF == ord('q'):\n",
    "        break\n",
    "\n",
    "video.release()\n",
    "cv2.destroyAllWindows()"
   ]
  },
  {
   "cell_type": "code",
   "execution_count": null,
   "id": "2262be5e",
   "metadata": {},
   "outputs": [],
   "source": []
  }
 ],
 "metadata": {
  "kernelspec": {
   "display_name": "Python 3 (ipykernel)",
   "language": "python",
   "name": "python3"
  },
  "language_info": {
   "codemirror_mode": {
    "name": "ipython",
    "version": 3
   },
   "file_extension": ".py",
   "mimetype": "text/x-python",
   "name": "python",
   "nbconvert_exporter": "python",
   "pygments_lexer": "ipython3",
   "version": "3.9.13"
  }
 },
 "nbformat": 4,
 "nbformat_minor": 5
}
