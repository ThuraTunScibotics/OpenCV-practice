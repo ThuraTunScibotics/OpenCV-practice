{
 "cells": [
  {
   "cell_type": "code",
   "execution_count": 19,
   "id": "37ee33a6",
   "metadata": {},
   "outputs": [],
   "source": [
    "import cv2\n",
    "import imutils"
   ]
  },
  {
   "cell_type": "markdown",
   "id": "098d1358",
   "metadata": {},
   "source": [
    "For Details about Tracking Algorithms of OpenCV\n",
    "https://broutonlab.com/blog/opencv-object-tracking"
   ]
  },
  {
   "cell_type": "code",
   "execution_count": 20,
   "id": "e9bb85df",
   "metadata": {},
   "outputs": [],
   "source": [
    "TraDict = {'csrt': cv2.legacy.TrackerCSRT_create,\n",
    "           'kcf': cv2.legacy.TrackerKCF_create,\n",
    "           'mil': cv2.legacy.TrackerMIL_create,\n",
    "           'tld': cv2.legacy.TrackerTLD_create,\n",
    "           'boosting': cv2.legacy.TrackerBoosting_create,\n",
    "           'mosse': cv2.legacy.TrackerMOSSE_create}"
   ]
  },
  {
   "cell_type": "code",
   "execution_count": 21,
   "id": "83517138",
   "metadata": {},
   "outputs": [],
   "source": [
    "# trackers = cv2.legacy.MultiTracker_create()"
   ]
  },
  {
   "cell_type": "code",
   "execution_count": 37,
   "id": "4e8507f0",
   "metadata": {},
   "outputs": [],
   "source": [
    "video = cv2.VideoCapture('/home/thura/Desktop/computer-vision-and-DL/CV-course1/11 - Object Tracking/data/mot.mp4')"
   ]
  },
  {
   "cell_type": "code",
   "execution_count": 38,
   "id": "6074ebcb",
   "metadata": {},
   "outputs": [],
   "source": [
    "ret, frame = video.read()\n",
    "# frame = cv2.resize(frame, (640, 480), interpolation = cv2.INTER_AREA)\n",
    "# frame = imutils.resize(frame, width=640, height=480)"
   ]
  },
  {
   "cell_type": "code",
   "execution_count": 39,
   "id": "127d75dd",
   "metadata": {},
   "outputs": [],
   "source": [
    "multiTrackers = cv2.legacy.MultiTracker_create()"
   ]
  },
  {
   "cell_type": "code",
   "execution_count": 40,
   "id": "00cc69a3",
   "metadata": {},
   "outputs": [],
   "source": [
    "k = 4\n",
    "for i in range(k):\n",
    "    cv2.imshow('MultiTrack', frame)\n",
    "    bbox = cv2.selectROI('MultiTrack', frame)\n",
    "    tracker_i = TraDict['csrt']()\n",
    "    multiTrackers.add(tracker_i, frame, bbox)"
   ]
  },
  {
   "cell_type": "code",
   "execution_count": 41,
   "id": "cac87917",
   "metadata": {},
   "outputs": [],
   "source": [
    "while True:\n",
    "    ret, frame = video.read()\n",
    "    # frame = cv2.resize(frame, (640, 480), interpolation = cv2.INTER_AREA)\n",
    "    # frame = imutils.resize(frame, width=640, height=480)\n",
    "    if not ret:\n",
    "        break\n",
    "    (success, boxes) = multiTrackers.update(frame)\n",
    "    for box in boxes:\n",
    "        (x, y, w, h) = [int(a) for a in box]\n",
    "        cv2.rectangle(frame, (x, y), (x+w, y+h), (0, 0, 255), 2)\n",
    "    \n",
    "    # frame = cv2.resize(frame, (640, 480), interpolation = cv2.INTER_LINEAR)\n",
    "    cv2.imshow('MultiTracker', frame)\n",
    "    if cv2.waitKey(1) & 0xFF == ord('q'):\n",
    "        break\n",
    "\n",
    "video.release()\n",
    "cv2.destroyAllWindows()"
   ]
  },
  {
   "cell_type": "code",
   "execution_count": null,
   "id": "06456e47",
   "metadata": {},
   "outputs": [],
   "source": []
  }
 ],
 "metadata": {
  "kernelspec": {
   "display_name": "Python 3 (ipykernel)",
   "language": "python",
   "name": "python3"
  },
  "language_info": {
   "codemirror_mode": {
    "name": "ipython",
    "version": 3
   },
   "file_extension": ".py",
   "mimetype": "text/x-python",
   "name": "python",
   "nbconvert_exporter": "python",
   "pygments_lexer": "ipython3",
   "version": "3.9.13"
  }
 },
 "nbformat": 4,
 "nbformat_minor": 5
}
