{
 "cells": [
  {
   "cell_type": "code",
   "execution_count": 1,
   "id": "1a3578e4",
   "metadata": {},
   "outputs": [],
   "source": [
    "import cv2\n",
    "import numpy as np"
   ]
  },
  {
   "cell_type": "code",
   "execution_count": 2,
   "id": "371ae5ff",
   "metadata": {},
   "outputs": [],
   "source": [
    "TraDict = {'csrt': cv2.legacy.TrackerCSRT_create,\n",
    "           'kcf': cv2.legacy.TrackerKCF_create,\n",
    "           'mil': cv2.legacy.TrackerMIL_create,\n",
    "           'tld': cv2.legacy.TrackerTLD_create,\n",
    "           'boosting': cv2.legacy.TrackerBoosting_create,\n",
    "           'mosse': cv2.legacy.TrackerMOSSE_create}"
   ]
  },
  {
   "cell_type": "code",
   "execution_count": 9,
   "id": "32f91349",
   "metadata": {},
   "outputs": [],
   "source": [
    "video = cv2.VideoCapture('/home/thura/Desktop/computer-vision-and-DL/CV-course1/11 - Object Tracking/data/mot.mp4')\n",
    "ret, frame = video.read()"
   ]
  },
  {
   "cell_type": "code",
   "execution_count": 10,
   "id": "758f4ff1",
   "metadata": {},
   "outputs": [],
   "source": [
    "multiTrackers = cv2.legacy.MultiTracker_create()"
   ]
  },
  {
   "cell_type": "code",
   "execution_count": 11,
   "id": "4ca260ec",
   "metadata": {},
   "outputs": [],
   "source": [
    "k = 4\n",
    "for i in range(k):\n",
    "    cv2.imshow('MultiTrack', frame)\n",
    "    bbox = cv2.selectROI('MultiTrack', frame)\n",
    "    tracker_i = TraDict['csrt']()\n",
    "    multiTrackers.add(tracker_i, frame, bbox)"
   ]
  },
  {
   "cell_type": "code",
   "execution_count": 12,
   "id": "85656035",
   "metadata": {},
   "outputs": [],
   "source": [
    "frameNumber = 2 # already done frame-1, so need to start from 2\n",
    "baseDir = '/home/thura/Desktop/computer-vision-and-DL/CV-course1/11 - Object Tracking/tracking-results'\n",
    "while True:\n",
    "    ret, frame = video.read()\n",
    "    if not ret:\n",
    "        break\n",
    "    \n",
    "    (success, boxes) = multiTrackers.update(frame)\n",
    "    np.savetxt(baseDir + '/frame_'+str(frameNumber)+'.txt', boxes, fmt='%f')\n",
    "    frameNumber += 1\n",
    "    \n",
    "    for box in boxes:\n",
    "        (x, y, w, h) = [int(a) for a in box]\n",
    "        cv2.rectangle(frame, (x, y), (x+w, y+h), (0, 0, 255), 2)\n",
    "    \n",
    "    cv2.imshow('MultiTracker', frame)\n",
    "    if cv2.waitKey(1) & 0xFF == ord('q'):\n",
    "        break\n",
    "\n",
    "video.release()\n",
    "cv2.destroyAllWindows()"
   ]
  },
  {
   "cell_type": "code",
   "execution_count": 13,
   "id": "78208e0f",
   "metadata": {},
   "outputs": [],
   "source": [
    "boxes = np.loadtxt('/home/thura/Desktop/computer-vision-and-DL/CV-course1/11 - Object Tracking/tracking-results/frame_113.txt')"
   ]
  },
  {
   "cell_type": "code",
   "execution_count": 14,
   "id": "b38da791",
   "metadata": {},
   "outputs": [
    {
     "data": {
      "text/plain": [
       "array([[ 346.,  380.,   67.,   98.],\n",
       "       [1168.,  274.,   51.,   94.],\n",
       "       [ 824.,  221.,   48.,  103.],\n",
       "       [ 697.,  201.,   44.,   89.]])"
      ]
     },
     "execution_count": 14,
     "metadata": {},
     "output_type": "execute_result"
    }
   ],
   "source": [
    "boxes"
   ]
  },
  {
   "cell_type": "code",
   "execution_count": null,
   "id": "9c0b9b88",
   "metadata": {},
   "outputs": [],
   "source": []
  }
 ],
 "metadata": {
  "kernelspec": {
   "display_name": "Python 3 (ipykernel)",
   "language": "python",
   "name": "python3"
  },
  "language_info": {
   "codemirror_mode": {
    "name": "ipython",
    "version": 3
   },
   "file_extension": ".py",
   "mimetype": "text/x-python",
   "name": "python",
   "nbconvert_exporter": "python",
   "pygments_lexer": "ipython3",
   "version": "3.9.13"
  }
 },
 "nbformat": 4,
 "nbformat_minor": 5
}
