{
 "cells": [
  {
   "cell_type": "code",
   "execution_count": 1,
   "id": "34169f04",
   "metadata": {},
   "outputs": [],
   "source": [
    "import cv2\n",
    "import imutils"
   ]
  },
  {
   "cell_type": "code",
   "execution_count": 2,
   "id": "f1977b52",
   "metadata": {},
   "outputs": [],
   "source": [
    "TraDict = {'csrt': cv2.legacy.TrackerCSRT_create,\n",
    "           'kcf': cv2.legacy.TrackerKCF_create,\n",
    "           'mil': cv2.legacy.TrackerMIL_create,\n",
    "           'tld': cv2.legacy.TrackerTLD_create,\n",
    "           'boosting': cv2.legacy.TrackerBoosting_create,\n",
    "           'mosse': cv2.legacy.TrackerMOSSE_create}"
   ]
  },
  {
   "cell_type": "code",
   "execution_count": 3,
   "id": "3b18edaa",
   "metadata": {},
   "outputs": [],
   "source": [
    "tracker = TraDict['csrt']()"
   ]
  },
  {
   "cell_type": "code",
   "execution_count": 16,
   "id": "0ade92ce",
   "metadata": {},
   "outputs": [
    {
     "data": {
      "text/plain": [
       "False"
      ]
     },
     "execution_count": 16,
     "metadata": {},
     "output_type": "execute_result"
    }
   ],
   "source": [
    "video = cv2.VideoCapture(2)\n",
    "ret, frame = video.read()\n",
    "frame = imutils.resize(frame, width=600)\n",
    "cv2.imshow('Frame', frame)\n",
    "bb = cv2.selectROI('Frame', frame)\n",
    "tracker.init(frame, bb)"
   ]
  },
  {
   "cell_type": "code",
   "execution_count": 17,
   "id": "31e79f3f",
   "metadata": {},
   "outputs": [],
   "source": [
    "while True:\n",
    "    ret, frame = video.read()\n",
    "    if not ret:\n",
    "        break\n",
    "    (success, box) = tracker.update(frame)\n",
    "    if success:\n",
    "        (x, y, w, h) = [int(a) for a in box]\n",
    "        cv2.rectangle(frame, (x, y), (x+w, y+h), (0, 0, 255), 2)\n",
    "    cv2.imshow('Frame', frame)\n",
    "    if cv2.waitKey(1) & 0xFF == ord('q'):\n",
    "        break\n",
    "\n",
    "video.release()\n",
    "cv2.destroyAllWindows()"
   ]
  },
  {
   "cell_type": "code",
   "execution_count": null,
   "id": "f31e7d50",
   "metadata": {},
   "outputs": [],
   "source": []
  }
 ],
 "metadata": {
  "kernelspec": {
   "display_name": "Python 3 (ipykernel)",
   "language": "python",
   "name": "python3"
  },
  "language_info": {
   "codemirror_mode": {
    "name": "ipython",
    "version": 3
   },
   "file_extension": ".py",
   "mimetype": "text/x-python",
   "name": "python",
   "nbconvert_exporter": "python",
   "pygments_lexer": "ipython3",
   "version": "3.9.13"
  }
 },
 "nbformat": 4,
 "nbformat_minor": 5
}
