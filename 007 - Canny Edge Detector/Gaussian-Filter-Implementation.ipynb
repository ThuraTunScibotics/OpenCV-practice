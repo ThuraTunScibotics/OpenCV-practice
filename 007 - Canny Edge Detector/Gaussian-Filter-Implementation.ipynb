{
 "cells": [
  {
   "cell_type": "code",
   "execution_count": 26,
   "id": "454f6068",
   "metadata": {},
   "outputs": [],
   "source": [
    "import cv2\n",
    "import numpy as np"
   ]
  },
  {
   "cell_type": "code",
   "execution_count": 4,
   "id": "bb6a6f7d",
   "metadata": {},
   "outputs": [],
   "source": [
    "def f_getGaussianFilter(s, sigma):\n",
    "    maxX = s//2\n",
    "    minX = -maxX\n",
    "    minY = minX\n",
    "    maxY = maxX\n",
    "    \n",
    "    G = np.zeros((s, s))  # gaussina matrix\n",
    "    \n",
    "    for x in range(minX, maxX+1):\n",
    "        for y in range(minY, maxY+1):\n",
    "            v = (1/(2*np.pi*(sigma**2)))*np.exp(-(x**2 + y**2)/(2*(sigma**2)))\n",
    "            G[x-minX, y-minY] = v  # G[0, 0] = v\n",
    "    return G"
   ]
  },
  {
   "cell_type": "code",
   "execution_count": 29,
   "id": "bcb0531b",
   "metadata": {},
   "outputs": [],
   "source": [
    "G = f_getGaussianFilter(5, 1)"
   ]
  },
  {
   "cell_type": "code",
   "execution_count": 30,
   "id": "90be4c88",
   "metadata": {},
   "outputs": [
    {
     "data": {
      "text/plain": [
       "array([[0.00291502, 0.01306423, 0.02153928, 0.01306423, 0.00291502],\n",
       "       [0.01306423, 0.05854983, 0.09653235, 0.05854983, 0.01306423],\n",
       "       [0.02153928, 0.09653235, 0.15915494, 0.09653235, 0.02153928],\n",
       "       [0.01306423, 0.05854983, 0.09653235, 0.05854983, 0.01306423],\n",
       "       [0.00291502, 0.01306423, 0.02153928, 0.01306423, 0.00291502]])"
      ]
     },
     "execution_count": 30,
     "metadata": {},
     "output_type": "execute_result"
    }
   ],
   "source": [
    "G"
   ]
  },
  {
   "cell_type": "code",
   "execution_count": 31,
   "id": "49169488",
   "metadata": {},
   "outputs": [
    {
     "data": {
      "text/plain": [
       "0.9818147610543744"
      ]
     },
     "execution_count": 31,
     "metadata": {},
     "output_type": "execute_result"
    }
   ],
   "source": [
    "np.sum(G)"
   ]
  },
  {
   "cell_type": "code",
   "execution_count": 34,
   "id": "3330f209",
   "metadata": {},
   "outputs": [
    {
     "data": {
      "text/plain": [
       "array([[0.00296902, 0.01330621, 0.02193823, 0.01330621, 0.00296902],\n",
       "       [0.01330621, 0.0596343 , 0.09832033, 0.0596343 , 0.01330621],\n",
       "       [0.02193823, 0.09832033, 0.16210282, 0.09832033, 0.02193823],\n",
       "       [0.01330621, 0.0596343 , 0.09832033, 0.0596343 , 0.01330621],\n",
       "       [0.00296902, 0.01330621, 0.02193823, 0.01330621, 0.00296902]])"
      ]
     },
     "execution_count": 34,
     "metadata": {},
     "output_type": "execute_result"
    }
   ],
   "source": [
    "## OpenCV Gaussian filter\n",
    "a = cv2.getGaussianKernel(5, 1)\n",
    "G2 = a.dot(a.T)\n",
    "\n",
    "G2"
   ]
  },
  {
   "cell_type": "code",
   "execution_count": 35,
   "id": "29b920c0",
   "metadata": {},
   "outputs": [
    {
     "data": {
      "text/plain": [
       "0.9818147610543744"
      ]
     },
     "execution_count": 35,
     "metadata": {},
     "output_type": "execute_result"
    }
   ],
   "source": [
    "np.sum(G)"
   ]
  },
  {
   "cell_type": "code",
   "execution_count": null,
   "id": "a098a6df",
   "metadata": {},
   "outputs": [],
   "source": []
  }
 ],
 "metadata": {
  "kernelspec": {
   "display_name": "Python 3 (ipykernel)",
   "language": "python",
   "name": "python3"
  },
  "language_info": {
   "codemirror_mode": {
    "name": "ipython",
    "version": 3
   },
   "file_extension": ".py",
   "mimetype": "text/x-python",
   "name": "python",
   "nbconvert_exporter": "python",
   "pygments_lexer": "ipython3",
   "version": "3.7.12"
  }
 },
 "nbformat": 4,
 "nbformat_minor": 5
}
