{
 "cells": [
  {
   "cell_type": "code",
   "execution_count": 5,
   "id": "dfc9dc99",
   "metadata": {},
   "outputs": [],
   "source": [
    "import cv2"
   ]
  },
  {
   "cell_type": "markdown",
   "id": "b283a416",
   "metadata": {},
   "source": [
    "## RGB to HSV Conversion"
   ]
  },
  {
   "cell_type": "code",
   "execution_count": 1,
   "id": "77eb27ac",
   "metadata": {},
   "outputs": [],
   "source": [
    "def rgb_to_hsv(r, g, b, scaleFactor):\n",
    "    r, g, b = r / 255.0, g / 255.0, b / 255.0\n",
    "    cmax = max(r, g, b)  # maximum of r, g, b\n",
    "    cmin = min(r, g, b)  # minimum of r, g, b\n",
    "    diff = cmax-cmin     # difference of cmax and cmin\n",
    "    if cmax == cmin:\n",
    "        h = 0\n",
    "    elif cmax == r:\n",
    "        h = (60 * ((g - b) / diff) + 0) % 360\n",
    "    elif cmax == g:\n",
    "        h = (60 * ((b - r) / diff) + 2) % 360\n",
    "    elif cmax == b:\n",
    "        h = (60 * ((r - g) / diff) + 4) % 360\n",
    "        \n",
    "    if h < 0:\n",
    "        h = h + 360\n",
    "        \n",
    "        \n",
    "    if cmax == 0:\n",
    "        s = 0\n",
    "    else:\n",
    "        s = (diff / cmax) * scaleFactor\n",
    "        \n",
    "    v = cmax * scaleFactor\n",
    "    \n",
    "    if v == 0:\n",
    "        s = 0\n",
    "        \n",
    "    return h, s, v"
   ]
  },
  {
   "cell_type": "code",
   "execution_count": 2,
   "id": "a2f61ced",
   "metadata": {},
   "outputs": [
    {
     "name": "stdout",
     "output_type": "stream",
     "text": [
      "(342.0, 75.0, 78.43137254901961)\n"
     ]
    }
   ],
   "source": [
    "print(rgb_to_hsv(100, 200, 50, 100))"
   ]
  },
  {
   "cell_type": "code",
   "execution_count": 3,
   "id": "e9542068",
   "metadata": {},
   "outputs": [
    {
     "data": {
      "text/plain": [
       "'/home/thura/Desktop/computer-vision-and-DL/CV-course1/1-intro-to-images'"
      ]
     },
     "execution_count": 3,
     "metadata": {},
     "output_type": "execute_result"
    }
   ],
   "source": [
    "pwd"
   ]
  },
  {
   "cell_type": "code",
   "execution_count": 6,
   "id": "5cb27a3f",
   "metadata": {},
   "outputs": [],
   "source": [
    "img = cv2.imread('/home/thura/Desktop/computer-vision-and-DL/CV-course1/1-intro-to-images/images/tulips.jpg')"
   ]
  },
  {
   "cell_type": "code",
   "execution_count": 7,
   "id": "cc0ced28",
   "metadata": {},
   "outputs": [],
   "source": [
    "hsvImg = cv2.cvtColor(img, cv2.COLOR_BGR2HSV)"
   ]
  },
  {
   "cell_type": "code",
   "execution_count": 8,
   "id": "758ede6f",
   "metadata": {},
   "outputs": [
    {
     "data": {
      "text/plain": [
       "numpy.ndarray"
      ]
     },
     "execution_count": 8,
     "metadata": {},
     "output_type": "execute_result"
    }
   ],
   "source": [
    "type(hsvImg)"
   ]
  },
  {
   "cell_type": "code",
   "execution_count": 9,
   "id": "aff7f108",
   "metadata": {},
   "outputs": [
    {
     "data": {
      "text/plain": [
       "(638, 640, 3)"
      ]
     },
     "execution_count": 9,
     "metadata": {},
     "output_type": "execute_result"
    }
   ],
   "source": [
    "hsvImg.shape"
   ]
  },
  {
   "cell_type": "code",
   "execution_count": 10,
   "id": "f82a85e0",
   "metadata": {},
   "outputs": [],
   "source": [
    "cv2.imshow('HSV-img', hsvImg)\n",
    "cv2.waitKey(0)\n",
    "cv2.destroyAllWindows()"
   ]
  },
  {
   "cell_type": "markdown",
   "id": "ab57ec34",
   "metadata": {},
   "source": [
    "### Quiz\n",
    "Write Python command to convert HSV to \n",
    "* RGB\n",
    "* BGR\n",
    "\n",
    "using open cv2."
   ]
  },
  {
   "cell_type": "code",
   "execution_count": 12,
   "id": "6c214fee",
   "metadata": {},
   "outputs": [],
   "source": [
    "hsvRGB = cv2.cvtColor(hsvImg, cv2.COLOR_HSV2RGB)\n",
    "hsvBGR = cv2.cvtColor(hsvImg, cv2.COLOR_HSV2BGR)"
   ]
  },
  {
   "cell_type": "code",
   "execution_count": 14,
   "id": "1177da3f",
   "metadata": {},
   "outputs": [],
   "source": [
    "cv2.imshow('RGB-img', hsvRGB)\n",
    "cv2.waitKey(0)\n",
    "cv2.destroyAllWindows()\n",
    "\n",
    "cv2.imshow('BGR-img', hsvBGR)\n",
    "cv2.waitKey(0)\n",
    "cv2.destroyAllWindows()"
   ]
  },
  {
   "cell_type": "code",
   "execution_count": null,
   "id": "c2c7d6fd",
   "metadata": {},
   "outputs": [],
   "source": []
  }
 ],
 "metadata": {
  "kernelspec": {
   "display_name": "Python 3 (ipykernel)",
   "language": "python",
   "name": "python3"
  },
  "language_info": {
   "codemirror_mode": {
    "name": "ipython",
    "version": 3
   },
   "file_extension": ".py",
   "mimetype": "text/x-python",
   "name": "python",
   "nbconvert_exporter": "python",
   "pygments_lexer": "ipython3",
   "version": "3.7.12"
  }
 },
 "nbformat": 4,
 "nbformat_minor": 5
}
